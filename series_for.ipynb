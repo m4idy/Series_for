{
  "nbformat": 4,
  "nbformat_minor": 0,
  "metadata": {
    "colab": {
      "provenance": [],
      "authorship_tag": "ABX9TyPowXLRNMZMbtCmlEiJ2nsK",
      "include_colab_link": true
    },
    "kernelspec": {
      "name": "python3",
      "display_name": "Python 3"
    },
    "language_info": {
      "name": "python"
    }
  },
  "cells": [
    {
      "cell_type": "markdown",
      "metadata": {
        "id": "view-in-github",
        "colab_type": "text"
      },
      "source": [
        "<a href=\"https://colab.research.google.com/github/m4idy/Series_for/blob/main/series_for.ipynb\" target=\"_parent\"><img src=\"https://colab.research.google.com/assets/colab-badge.svg\" alt=\"Open In Colab\"/></a>"
      ]
    },
    {
      "cell_type": "markdown",
      "source": [
        "# SERIES USANDO FOR"
      ],
      "metadata": {
        "id": "3AEqdx0_F7sy"
      }
    },
    {
      "cell_type": "code",
      "execution_count": null,
      "metadata": {
        "id": "wvSixEaxEaIE"
      },
      "outputs": [],
      "source": [
        "# Serie 1: 1, 2, 3, 4, 5, 6, 7, 8, 9 10\n",
        "\n",
        "print(\"...........................................\")\n",
        "print(\"..................serie 1..................\")\n",
        "print(\"...........................................\")\n",
        "\n",
        "S=\"serie: {\"\n",
        "for i in range(1,11):\n",
        "  S=S + str(i) + \", \"\n",
        "S=S +\"}\"\n",
        "print(S)\n"
      ]
    },
    {
      "cell_type": "markdown",
      "source": [],
      "metadata": {
        "id": "hyg5x-GmH37s"
      }
    },
    {
      "cell_type": "code",
      "source": [
        "# Serie 2: 1, 4, 9, 16, 25, 36, 49, 64, 81, ........\n",
        "\n",
        "print(\"...........................................\")\n",
        "print(\"..................serie 2..................\")\n",
        "print(\"...........................................\")\n",
        "\n",
        "S=\"serie: {\"\n",
        "for i in range(1,11):\n",
        "  if i!=10:\n",
        "    S=S + str(i**2) + \", \"\n",
        "  else:\n",
        "    S=S + str(i**2) \n",
        "  \n",
        "S=S +\"}\"\n",
        "print(S)"
      ],
      "metadata": {
        "id": "z2yb0T1nI0dO"
      },
      "execution_count": null,
      "outputs": []
    },
    {
      "cell_type": "markdown",
      "source": [],
      "metadata": {
        "id": "WOPzuXWtNDGp"
      }
    },
    {
      "cell_type": "code",
      "source": [
        "# Serie 3: 2, 4, 8, 16, 32, 64 .......\n",
        "\n",
        "print(\"...........................................\")\n",
        "print(\"..................serie 3..................\")\n",
        "print(\"...........................................\")\n",
        "\n",
        "S=\"serie: {\"\n",
        "for i in range(2,11):\n",
        "  if i!=10:\n",
        "    S=S + str(2**i) + \", \"\n",
        "  else:\n",
        "    S=S + str(2**i) \n",
        "  \n",
        "S=S +\"}\"\n",
        "print(S)"
      ],
      "metadata": {
        "id": "gf7MR7RsNDdC"
      },
      "execution_count": null,
      "outputs": []
    },
    {
      "cell_type": "markdown",
      "source": [],
      "metadata": {
        "id": "BE4-8LzVPvaq"
      }
    },
    {
      "cell_type": "code",
      "source": [
        "# Serie 4: 2, 6, 12, 20, 30, 42, 56 .......\n",
        "\n",
        "print(\"...........................................\")\n",
        "print(\"..................serie 4..................\")\n",
        "print(\"...........................................\")\n",
        "\n",
        "S=\"serie: {\"\n",
        "for i in range(1,11):\n",
        "  if i!=10:\n",
        "    S=S + str(i**2+i) + \", \"\n",
        "  else:\n",
        "    S=S + str(i**2+i) \n",
        "  \n",
        "S=S +\"}\"\n",
        "print(S)"
      ],
      "metadata": {
        "id": "ijaXuguvPux7"
      },
      "execution_count": null,
      "outputs": []
    },
    {
      "cell_type": "markdown",
      "source": [],
      "metadata": {
        "id": "ZBodCIfyRN6y"
      }
    },
    {
      "cell_type": "code",
      "source": [],
      "metadata": {
        "id": "5VMxXcFfROGy"
      },
      "execution_count": null,
      "outputs": []
    }
  ]
}