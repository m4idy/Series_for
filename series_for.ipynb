{
  "nbformat": 4,
  "nbformat_minor": 0,
  "metadata": {
    "colab": {
      "provenance": [],
      "authorship_tag": "ABX9TyMAiG0RhGTJNx415qM4JxBk",
      "include_colab_link": true
    },
    "kernelspec": {
      "name": "python3",
      "display_name": "Python 3"
    },
    "language_info": {
      "name": "python"
    }
  },
  "cells": [
    {
      "cell_type": "markdown",
      "metadata": {
        "id": "view-in-github",
        "colab_type": "text"
      },
      "source": [
        "<a href=\"https://colab.research.google.com/github/m4idy/Series_for/blob/main/series_for.ipynb\" target=\"_parent\"><img src=\"https://colab.research.google.com/assets/colab-badge.svg\" alt=\"Open In Colab\"/></a>"
      ]
    },
    {
      "cell_type": "markdown",
      "source": [
        "# SERIES USANDO FOR"
      ],
      "metadata": {
        "id": "3AEqdx0_F7sy"
      }
    },
    {
      "cell_type": "code",
      "execution_count": null,
      "metadata": {
        "id": "wvSixEaxEaIE"
      },
      "outputs": [],
      "source": [
        "# Serie 1: 1, 2, 3, 4, 5, 6, 7, 8, 9 10\n",
        "\n",
        "print(\"...........................................\")\n",
        "print(\"..................serie 1..................\")\n",
        "print(\"...........................................\")\n",
        "\n",
        "S=\"serie: {\"\n",
        "for i in range(1,11):\n",
        "  S=S + str(i) + \", \"\n",
        "S=S +\"}\"\n",
        "print(S)\n"
      ]
    },
    {
      "cell_type": "markdown",
      "source": [],
      "metadata": {
        "id": "hyg5x-GmH37s"
      }
    },
    {
      "cell_type": "code",
      "source": [
        "# Serie 2: 1, 4, 9, 16, 25, 36, 49, 64, 81, ........\n",
        "\n",
        "print(\"...........................................\")\n",
        "print(\"..................serie 2..................\")\n",
        "print(\"...........................................\")\n",
        "\n",
        "S=\"serie: {\"\n",
        "for i in range(1,11):\n",
        "  if i!=10:\n",
        "    S=S + str(i**2) + \", \"\n",
        "  else:\n",
        "    S=S + str(i**2) \n",
        "  \n",
        "S=S +\"}\"\n",
        "print(S)"
      ],
      "metadata": {
        "colab": {
          "base_uri": "https://localhost:8080/"
        },
        "id": "z2yb0T1nI0dO",
        "outputId": "f72b1007-eed3-4efa-f037-aa31547ed6a2"
      },
      "execution_count": 11,
      "outputs": [
        {
          "output_type": "stream",
          "name": "stdout",
          "text": [
            "...........................................\n",
            "..................serie 2..................\n",
            "...........................................\n",
            "serie: {1, 4, 9, 16, 25, 36, 49, 64, 81, 100}\n"
          ]
        }
      ]
    }
  ]
}